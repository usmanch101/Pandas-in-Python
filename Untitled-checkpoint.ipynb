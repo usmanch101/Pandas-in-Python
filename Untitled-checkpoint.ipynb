{
 "cells": [
  {
   "cell_type": "markdown",
   "id": "ab78edc7",
   "metadata": {},
   "source": [
    "# Pandas in Python"
   ]
  },
  {
   "cell_type": "code",
   "execution_count": 40,
   "id": "dcae7119",
   "metadata": {},
   "outputs": [
    {
     "name": "stdout",
     "output_type": "stream",
     "text": [
      "        0\n",
      "0      ch\n",
      "1   usman\n",
      "2  python\n",
      "     name  height  weight\n",
      "0   Usman     5.6      80\n",
      "1     Ali     4.5      45\n",
      "2  Rizwan     5.1      55\n",
      "0    80\n",
      "1    45\n",
      "2    55\n",
      "Name: weight, dtype: int64\n",
      "45\n",
      "80\n",
      "     name  height  weight       bmi\n",
      "0   Usman     5.6      80  2.551020\n",
      "1     Ali     4.5      45  2.222222\n",
      "2  Rizwan     5.1      55  2.114571\n",
      "    name  height  weight       bmi\n",
      "0  Usman     5.6      80  2.551020\n",
      "1    Ali     4.5      45  2.222222\n",
      "     name  height  weight       bmi\n",
      "1     Ali     4.5      45  2.222222\n",
      "2  Rizwan     5.1      55  2.114571\n",
      "     name  height  weight       bmi\n",
      "0   Usman     5.6      80  2.551020\n",
      "1   Ahmad     4.5      45  2.222222\n",
      "2  Rizwan     5.1      55  2.114571\n",
      "     name  height  weight       bmi\n",
      "2  Rizwan     5.1      55  2.114571\n"
     ]
    }
   ],
   "source": [
    "import pandas as pd\n",
    "# create data frame\n",
    "c = [\"ch\",'usman', 'python']\n",
    "e = pd.DataFrame(c)\n",
    "print(e)\n",
    "\n",
    "# adding new column or changing the column name\n",
    "column = ['Usman','Ali','Rizwan']\n",
    "title_columns = {\"name\": column,\n",
    "                \"height\": [5.6,4.5,5.1],\n",
    "                \"weight\": [80,45,55]} # title_column varible dictionary is used to create the new column, changing column name etc.\n",
    "data = pd.DataFrame(title_columns)\n",
    "print(data)\n",
    "\n",
    "# select column in DataFrame\n",
    "select_column = data[\"weight\"]\n",
    "print(select_column)\n",
    "\n",
    "# select value in data Frame:  This shows the single value in Data Frame\n",
    "select_value = data[\"weight\"][1]\n",
    "print(select_value)\n",
    "\n",
    "# Select row in Data Frame: iloc method is used to show the all values related index\n",
    "select_row = data.iloc[0]\n",
    "#OR\n",
    "select_row = data.iloc[0]['weight']\n",
    "print(select_row)\n",
    "\n",
    "# Manupolate the data Frame values\n",
    "bmi = [] # bmi is empty list but the formula is weight[i]/height[i]**2\n",
    "for i in range(len(data)):\n",
    "    bmi_score = data['weight'][i]/data['height'][i]**2\n",
    "    bmi.append(bmi_score)\n",
    "data['bmi'] = bmi\n",
    "print(data)\n",
    "\n",
    "\n",
    "# manupolate data store into your file\n",
    "data.to_csv(\"usman.csv\", index = False) # now the file created in you pc as loction where the notebook open\n",
    "#  This is the your choice you want to create file in csv or txt. \n",
    "\n",
    "# read usman.csv file in jupyter notebook\n",
    "pd.read_csv('usman.csv') # now the file load in notebook as excel form\n",
    "\n",
    "\n",
    "# head and tail methods: Head method show the first rows and columns and tail method show the last rows and columns\n",
    "print(data.head(2)) #show first two elements\n",
    "print(data.tail(2)) # shows the last two method\n",
    "\n",
    "# replace method\n",
    "data1 = data.replace(\"Ali\", \"Ahmad\")\n",
    "print(data1)\n",
    "\n",
    "# remove column\n",
    "data2 = data.drop(\"height\", axis = 1)  # now the height column deleted\n",
    "data2 = data.iloc[2:] # removing row\n",
    "print(data2)\n",
    "\n"
   ]
  },
  {
   "cell_type": "code",
   "execution_count": null,
   "id": "5f291e59",
   "metadata": {},
   "outputs": [],
   "source": []
  },
  {
   "cell_type": "code",
   "execution_count": null,
   "id": "788df2de",
   "metadata": {},
   "outputs": [],
   "source": []
  }
 ],
 "metadata": {
  "kernelspec": {
   "display_name": "Python 3 (ipykernel)",
   "language": "python",
   "name": "python3"
  },
  "language_info": {
   "codemirror_mode": {
    "name": "ipython",
    "version": 3
   },
   "file_extension": ".py",
   "mimetype": "text/x-python",
   "name": "python",
   "nbconvert_exporter": "python",
   "pygments_lexer": "ipython3",
   "version": "3.9.12"
  }
 },
 "nbformat": 4,
 "nbformat_minor": 5
}
